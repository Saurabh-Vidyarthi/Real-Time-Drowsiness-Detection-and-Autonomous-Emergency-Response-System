{
 "cells": [
  {
   "cell_type": "code",
   "execution_count": 1,
   "id": "7d342436",
   "metadata": {},
   "outputs": [
    {
     "name": "stdout",
     "output_type": "stream",
     "text": [
      "Loading Intel Realsense Camera\n"
     ]
    }
   ],
   "source": [
    "#https://pysource.com\n",
    "import cv2\n",
    "from realsense_camera import *\n",
    "from mask_rcnn import *\n",
    "\n",
    "# Load Realsense camera\n",
    "rs = RealsenseCamera()\n",
    "mrcnn = MaskRCNN()\n",
    "\n",
    "while True:\n",
    "\t# Get frame in real time from Realsense camera\n",
    "\tret, bgr_frame, depth_frame = rs.get_frame_stream()\n",
    "\n",
    "\t# Get object mask\n",
    "\tboxes, classes, contours, centers = mrcnn.detect_objects_mask(bgr_frame)\n",
    "\n",
    "\t# Draw object mask\n",
    "\tbgr_frame = mrcnn.draw_object_mask(bgr_frame)\n",
    "\n",
    "\t# Show depth info of the objects\n",
    "\tmrcnn.draw_object_info(bgr_frame, depth_frame)\n",
    "\n",
    "\n",
    "\tcv2.imshow(\"depth frame\", depth_frame)\n",
    "\tcv2.imshow(\"Bgr frame\", bgr_frame)\n",
    "\n",
    "\tkey = cv2.waitKey(1)\n",
    "\tif key == 27:\n",
    "\t\tbreak\n",
    "\n",
    "rs.release()\n",
    "cv2.destroyAllWindows()\n"
   ]
  },
  {
   "cell_type": "code",
   "execution_count": 15,
   "id": "28e9ee5c",
   "metadata": {},
   "outputs": [
    {
     "name": "stdout",
     "output_type": "stream",
     "text": [
      "Loading Intel Realsense Camera\n"
     ]
    },
    {
     "ename": "RuntimeError",
     "evalue": "Device disconnected. Failed to reconnect: No device connected5000",
     "output_type": "error",
     "traceback": [
      "\u001b[1;31m---------------------------------------------------------------------------\u001b[0m",
      "\u001b[1;31mRuntimeError\u001b[0m                              Traceback (most recent call last)",
      "Cell \u001b[1;32mIn[15], line 15\u001b[0m\n\u001b[0;32m     11\u001b[0m display_height \u001b[38;5;241m=\u001b[39m \u001b[38;5;241m240\u001b[39m\n\u001b[0;32m     13\u001b[0m \u001b[38;5;28;01mwhile\u001b[39;00m \u001b[38;5;28;01mTrue\u001b[39;00m:\n\u001b[0;32m     14\u001b[0m     \u001b[38;5;66;03m# Get frame in real time from Realsense camera\u001b[39;00m\n\u001b[1;32m---> 15\u001b[0m     ret, bgr_frame, depth_frame \u001b[38;5;241m=\u001b[39m \u001b[43mrs\u001b[49m\u001b[38;5;241;43m.\u001b[39;49m\u001b[43mget_frame_stream\u001b[49m\u001b[43m(\u001b[49m\u001b[43m)\u001b[49m\n\u001b[0;32m     17\u001b[0m     \u001b[38;5;66;03m# Resize frames to the desired display size\u001b[39;00m\n\u001b[0;32m     18\u001b[0m     bgr_frame \u001b[38;5;241m=\u001b[39m cv2\u001b[38;5;241m.\u001b[39mresize(bgr_frame, (display_width, display_height))\n",
      "File \u001b[1;32m~\\Desktop\\Tiny ML\\measure_object_distance\\realsense_camera.py:24\u001b[0m, in \u001b[0;36mRealsenseCamera.get_frame_stream\u001b[1;34m(self)\u001b[0m\n\u001b[0;32m     22\u001b[0m \u001b[38;5;28;01mdef\u001b[39;00m \u001b[38;5;21mget_frame_stream\u001b[39m(\u001b[38;5;28mself\u001b[39m):\n\u001b[0;32m     23\u001b[0m     \u001b[38;5;66;03m# Wait for a coherent pair of frames: depth and color\u001b[39;00m\n\u001b[1;32m---> 24\u001b[0m     frames \u001b[38;5;241m=\u001b[39m \u001b[38;5;28;43mself\u001b[39;49m\u001b[38;5;241;43m.\u001b[39;49m\u001b[43mpipeline\u001b[49m\u001b[38;5;241;43m.\u001b[39;49m\u001b[43mwait_for_frames\u001b[49m\u001b[43m(\u001b[49m\u001b[43m)\u001b[49m\n\u001b[0;32m     25\u001b[0m     aligned_frames \u001b[38;5;241m=\u001b[39m \u001b[38;5;28mself\u001b[39m\u001b[38;5;241m.\u001b[39malign\u001b[38;5;241m.\u001b[39mprocess(frames)\n\u001b[0;32m     26\u001b[0m     depth_frame \u001b[38;5;241m=\u001b[39m aligned_frames\u001b[38;5;241m.\u001b[39mget_depth_frame()\n",
      "\u001b[1;31mRuntimeError\u001b[0m: Device disconnected. Failed to reconnect: No device connected5000"
     ]
    }
   ],
   "source": [
    "import cv2\n",
    "from realsense_camera import *\n",
    "from mask_rcnn import *\n",
    "\n",
    "# Load Realsense camera\n",
    "rs = RealsenseCamera()\n",
    "mrcnn = MaskRCNN()\n",
    "\n",
    "# Set the desired display width and height\n",
    "display_width = 480\n",
    "display_height = 240\n",
    "\n",
    "while True:\n",
    "    # Get frame in real time from Realsense camera\n",
    "    ret, bgr_frame, depth_frame = rs.get_frame_stream()\n",
    "\n",
    "    # Resize frames to the desired display size\n",
    "    bgr_frame = cv2.resize(bgr_frame, (display_width, display_height))\n",
    "    depth_frame = cv2.resize(depth_frame, (display_width, display_height))\n",
    "\n",
    "    # Get object mask\n",
    "    boxes, classes, contours, centers = mrcnn.detect_objects_mask(bgr_frame)\n",
    "\n",
    "    # Draw object mask\n",
    "    bgr_frame = mrcnn.draw_object_mask(bgr_frame)\n",
    "\n",
    "    # Show depth info of the objects\n",
    "    mrcnn.draw_object_info(bgr_frame, depth_frame)\n",
    "\n",
    "    cv2.imshow(\"depth frame\", depth_frame)\n",
    "    cv2.imshow(\"Bgr frame\", bgr_frame)\n",
    "\n",
    "    key = cv2.waitKey(1)\n",
    "    if key == 27:\n",
    "        break\n",
    "\n",
    "rs.release()\n",
    "cv2.destroyAllWindows()\n"
   ]
  },
  {
   "cell_type": "code",
   "execution_count": null,
   "id": "d5670642",
   "metadata": {},
   "outputs": [],
   "source": []
  }
 ],
 "metadata": {
  "kernelspec": {
   "display_name": "Python 3 (ipykernel)",
   "language": "python",
   "name": "python3"
  },
  "language_info": {
   "codemirror_mode": {
    "name": "ipython",
    "version": 3
   },
   "file_extension": ".py",
   "mimetype": "text/x-python",
   "name": "python",
   "nbconvert_exporter": "python",
   "pygments_lexer": "ipython3",
   "version": "3.10.9"
  }
 },
 "nbformat": 4,
 "nbformat_minor": 5
}
